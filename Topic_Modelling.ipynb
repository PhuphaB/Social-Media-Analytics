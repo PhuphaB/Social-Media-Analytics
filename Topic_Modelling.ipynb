{
  "nbformat": 4,
  "nbformat_minor": 0,
  "metadata": {
    "colab": {
      "provenance": [],
      "machine_shape": "hm",
      "gpuType": "L4"
    },
    "kernelspec": {
      "name": "python3",
      "display_name": "Python 3"
    },
    "language_info": {
      "name": "python"
    },
    "accelerator": "GPU"
  },
  "cells": [
    {
      "cell_type": "code",
      "source": [
        "  import warnings\n",
        "warnings.filterwarnings(\"ignore\", category=DeprecationWarning)\n",
        "\n",
        "import pandas as pd\n",
        "import gensim\n",
        "import gensim.corpora as corpora\n",
        "from gensim.corpora.dictionary import Dictionary\n",
        "from gensim.models import LdaModel\n",
        "import pyLDAvis\n",
        "import pyLDAvis.gensim_models\n",
        "from bertopic import BERTopic\n",
        "from nltk.tokenize import word_tokenize\n",
        "from nltk.corpus import stopwords\n",
        "import nltk\n",
        "from gensim.models.coherencemodel import CoherenceModel\n",
        "from sklearn.feature_extraction.text import CountVectorizer\n",
        "import matplotlib.pyplot as plt\n",
        "import seaborn as sns\n",
        "import ast\n",
        "\n",
        "nltk.download('punkt')\n",
        "nltk.download('stopwords')"
      ],
      "metadata": {
        "id": "QF2l-XmN1FZD",
        "colab": {
          "base_uri": "https://localhost:8080/"
        },
        "outputId": "441b19fa-7d7d-46a6-8639-da6bd6633e9c"
      },
      "execution_count": null,
      "outputs": [
        {
          "output_type": "stream",
          "name": "stderr",
          "text": [
            "/usr/local/lib/python3.11/dist-packages/hdbscan/plots.py:448: DeprecationWarning: invalid escape sequence '\\l'\n",
            "  axis.set_ylabel('$\\lambda$ value')\n",
            "/usr/local/lib/python3.11/dist-packages/hdbscan/robust_single_linkage_.py:154: DeprecationWarning: invalid escape sequence '\\{'\n",
            "  \"\"\"Perform robust single linkage clustering from a vector array\n",
            "[nltk_data] Downloading package punkt to /root/nltk_data...\n",
            "[nltk_data]   Unzipping tokenizers/punkt.zip.\n",
            "[nltk_data] Downloading package stopwords to /root/nltk_data...\n",
            "[nltk_data]   Unzipping corpora/stopwords.zip.\n"
          ]
        },
        {
          "output_type": "execute_result",
          "data": {
            "text/plain": [
              "True"
            ]
          },
          "metadata": {},
          "execution_count": 1
        }
      ]
    },
    {
      "cell_type": "markdown",
      "source": [],
      "metadata": {
        "id": "2BsB4KEOw21X"
      }
    },
    {
      "cell_type": "code",
      "source": [
        "# Load Dataset\n",
        "df = pd.read_csv(\"negative_comments.csv\")\n",
        "df.head()"
      ],
      "metadata": {
        "colab": {
          "base_uri": "https://localhost:8080/",
          "height": 206
        },
        "id": "TYmoi48k2wHE",
        "outputId": "e3591fe0-958f-48a1-ff8c-e2b8a136a607"
      },
      "execution_count": null,
      "outputs": [
        {
          "output_type": "execute_result",
          "data": {
            "text/plain": [
              "             Timestamp                                            Comment  \\\n",
              "0  2024-10-22 22:39:00  update e coli outbreak linked to mcdonalds qua...   \n",
              "1  2024-10-23 02:47:00  i just had it 3 hrs ago in northeast in app i ...   \n",
              "2  2024-10-22 23:31:00                      so many food outbreaks lately   \n",
              "3  2024-10-23 06:42:00  im from colorado and i heard about this on the...   \n",
              "4  2024-10-24 22:35:00  stores in austin texas have all removed from t...   \n",
              "\n",
              "                                   Tokenized_Comment BERTweet_Sentiment  \n",
              "0  update e coli outbreak linked quarter pounder ...           Negative  \n",
              "1  3 hr ago northeast app see now stopped selling...           Negative  \n",
              "2                               many outbreak lately           Negative  \n",
              "3            colorado heard news very sad very scary           Negative  \n",
              "4             store austin texas all removed menu tx           Negative  "
            ],
            "text/html": [
              "\n",
              "  <div id=\"df-cea43048-85eb-42cd-83a5-e76833af4198\" class=\"colab-df-container\">\n",
              "    <div>\n",
              "<style scoped>\n",
              "    .dataframe tbody tr th:only-of-type {\n",
              "        vertical-align: middle;\n",
              "    }\n",
              "\n",
              "    .dataframe tbody tr th {\n",
              "        vertical-align: top;\n",
              "    }\n",
              "\n",
              "    .dataframe thead th {\n",
              "        text-align: right;\n",
              "    }\n",
              "</style>\n",
              "<table border=\"1\" class=\"dataframe\">\n",
              "  <thead>\n",
              "    <tr style=\"text-align: right;\">\n",
              "      <th></th>\n",
              "      <th>Timestamp</th>\n",
              "      <th>Comment</th>\n",
              "      <th>Tokenized_Comment</th>\n",
              "      <th>BERTweet_Sentiment</th>\n",
              "    </tr>\n",
              "  </thead>\n",
              "  <tbody>\n",
              "    <tr>\n",
              "      <th>0</th>\n",
              "      <td>2024-10-22 22:39:00</td>\n",
              "      <td>update e coli outbreak linked to mcdonalds qua...</td>\n",
              "      <td>update e coli outbreak linked quarter pounder ...</td>\n",
              "      <td>Negative</td>\n",
              "    </tr>\n",
              "    <tr>\n",
              "      <th>1</th>\n",
              "      <td>2024-10-23 02:47:00</td>\n",
              "      <td>i just had it 3 hrs ago in northeast in app i ...</td>\n",
              "      <td>3 hr ago northeast app see now stopped selling...</td>\n",
              "      <td>Negative</td>\n",
              "    </tr>\n",
              "    <tr>\n",
              "      <th>2</th>\n",
              "      <td>2024-10-22 23:31:00</td>\n",
              "      <td>so many food outbreaks lately</td>\n",
              "      <td>many outbreak lately</td>\n",
              "      <td>Negative</td>\n",
              "    </tr>\n",
              "    <tr>\n",
              "      <th>3</th>\n",
              "      <td>2024-10-23 06:42:00</td>\n",
              "      <td>im from colorado and i heard about this on the...</td>\n",
              "      <td>colorado heard news very sad very scary</td>\n",
              "      <td>Negative</td>\n",
              "    </tr>\n",
              "    <tr>\n",
              "      <th>4</th>\n",
              "      <td>2024-10-24 22:35:00</td>\n",
              "      <td>stores in austin texas have all removed from t...</td>\n",
              "      <td>store austin texas all removed menu tx</td>\n",
              "      <td>Negative</td>\n",
              "    </tr>\n",
              "  </tbody>\n",
              "</table>\n",
              "</div>\n",
              "    <div class=\"colab-df-buttons\">\n",
              "\n",
              "  <div class=\"colab-df-container\">\n",
              "    <button class=\"colab-df-convert\" onclick=\"convertToInteractive('df-cea43048-85eb-42cd-83a5-e76833af4198')\"\n",
              "            title=\"Convert this dataframe to an interactive table.\"\n",
              "            style=\"display:none;\">\n",
              "\n",
              "  <svg xmlns=\"http://www.w3.org/2000/svg\" height=\"24px\" viewBox=\"0 -960 960 960\">\n",
              "    <path d=\"M120-120v-720h720v720H120Zm60-500h600v-160H180v160Zm220 220h160v-160H400v160Zm0 220h160v-160H400v160ZM180-400h160v-160H180v160Zm440 0h160v-160H620v160ZM180-180h160v-160H180v160Zm440 0h160v-160H620v160Z\"/>\n",
              "  </svg>\n",
              "    </button>\n",
              "\n",
              "  <style>\n",
              "    .colab-df-container {\n",
              "      display:flex;\n",
              "      gap: 12px;\n",
              "    }\n",
              "\n",
              "    .colab-df-convert {\n",
              "      background-color: #E8F0FE;\n",
              "      border: none;\n",
              "      border-radius: 50%;\n",
              "      cursor: pointer;\n",
              "      display: none;\n",
              "      fill: #1967D2;\n",
              "      height: 32px;\n",
              "      padding: 0 0 0 0;\n",
              "      width: 32px;\n",
              "    }\n",
              "\n",
              "    .colab-df-convert:hover {\n",
              "      background-color: #E2EBFA;\n",
              "      box-shadow: 0px 1px 2px rgba(60, 64, 67, 0.3), 0px 1px 3px 1px rgba(60, 64, 67, 0.15);\n",
              "      fill: #174EA6;\n",
              "    }\n",
              "\n",
              "    .colab-df-buttons div {\n",
              "      margin-bottom: 4px;\n",
              "    }\n",
              "\n",
              "    [theme=dark] .colab-df-convert {\n",
              "      background-color: #3B4455;\n",
              "      fill: #D2E3FC;\n",
              "    }\n",
              "\n",
              "    [theme=dark] .colab-df-convert:hover {\n",
              "      background-color: #434B5C;\n",
              "      box-shadow: 0px 1px 3px 1px rgba(0, 0, 0, 0.15);\n",
              "      filter: drop-shadow(0px 1px 2px rgba(0, 0, 0, 0.3));\n",
              "      fill: #FFFFFF;\n",
              "    }\n",
              "  </style>\n",
              "\n",
              "    <script>\n",
              "      const buttonEl =\n",
              "        document.querySelector('#df-cea43048-85eb-42cd-83a5-e76833af4198 button.colab-df-convert');\n",
              "      buttonEl.style.display =\n",
              "        google.colab.kernel.accessAllowed ? 'block' : 'none';\n",
              "\n",
              "      async function convertToInteractive(key) {\n",
              "        const element = document.querySelector('#df-cea43048-85eb-42cd-83a5-e76833af4198');\n",
              "        const dataTable =\n",
              "          await google.colab.kernel.invokeFunction('convertToInteractive',\n",
              "                                                    [key], {});\n",
              "        if (!dataTable) return;\n",
              "\n",
              "        const docLinkHtml = 'Like what you see? Visit the ' +\n",
              "          '<a target=\"_blank\" href=https://colab.research.google.com/notebooks/data_table.ipynb>data table notebook</a>'\n",
              "          + ' to learn more about interactive tables.';\n",
              "        element.innerHTML = '';\n",
              "        dataTable['output_type'] = 'display_data';\n",
              "        await google.colab.output.renderOutput(dataTable, element);\n",
              "        const docLink = document.createElement('div');\n",
              "        docLink.innerHTML = docLinkHtml;\n",
              "        element.appendChild(docLink);\n",
              "      }\n",
              "    </script>\n",
              "  </div>\n",
              "\n",
              "\n",
              "<div id=\"df-9d169387-638b-432c-8f0e-64baa62838e0\">\n",
              "  <button class=\"colab-df-quickchart\" onclick=\"quickchart('df-9d169387-638b-432c-8f0e-64baa62838e0')\"\n",
              "            title=\"Suggest charts\"\n",
              "            style=\"display:none;\">\n",
              "\n",
              "<svg xmlns=\"http://www.w3.org/2000/svg\" height=\"24px\"viewBox=\"0 0 24 24\"\n",
              "     width=\"24px\">\n",
              "    <g>\n",
              "        <path d=\"M19 3H5c-1.1 0-2 .9-2 2v14c0 1.1.9 2 2 2h14c1.1 0 2-.9 2-2V5c0-1.1-.9-2-2-2zM9 17H7v-7h2v7zm4 0h-2V7h2v10zm4 0h-2v-4h2v4z\"/>\n",
              "    </g>\n",
              "</svg>\n",
              "  </button>\n",
              "\n",
              "<style>\n",
              "  .colab-df-quickchart {\n",
              "      --bg-color: #E8F0FE;\n",
              "      --fill-color: #1967D2;\n",
              "      --hover-bg-color: #E2EBFA;\n",
              "      --hover-fill-color: #174EA6;\n",
              "      --disabled-fill-color: #AAA;\n",
              "      --disabled-bg-color: #DDD;\n",
              "  }\n",
              "\n",
              "  [theme=dark] .colab-df-quickchart {\n",
              "      --bg-color: #3B4455;\n",
              "      --fill-color: #D2E3FC;\n",
              "      --hover-bg-color: #434B5C;\n",
              "      --hover-fill-color: #FFFFFF;\n",
              "      --disabled-bg-color: #3B4455;\n",
              "      --disabled-fill-color: #666;\n",
              "  }\n",
              "\n",
              "  .colab-df-quickchart {\n",
              "    background-color: var(--bg-color);\n",
              "    border: none;\n",
              "    border-radius: 50%;\n",
              "    cursor: pointer;\n",
              "    display: none;\n",
              "    fill: var(--fill-color);\n",
              "    height: 32px;\n",
              "    padding: 0;\n",
              "    width: 32px;\n",
              "  }\n",
              "\n",
              "  .colab-df-quickchart:hover {\n",
              "    background-color: var(--hover-bg-color);\n",
              "    box-shadow: 0 1px 2px rgba(60, 64, 67, 0.3), 0 1px 3px 1px rgba(60, 64, 67, 0.15);\n",
              "    fill: var(--button-hover-fill-color);\n",
              "  }\n",
              "\n",
              "  .colab-df-quickchart-complete:disabled,\n",
              "  .colab-df-quickchart-complete:disabled:hover {\n",
              "    background-color: var(--disabled-bg-color);\n",
              "    fill: var(--disabled-fill-color);\n",
              "    box-shadow: none;\n",
              "  }\n",
              "\n",
              "  .colab-df-spinner {\n",
              "    border: 2px solid var(--fill-color);\n",
              "    border-color: transparent;\n",
              "    border-bottom-color: var(--fill-color);\n",
              "    animation:\n",
              "      spin 1s steps(1) infinite;\n",
              "  }\n",
              "\n",
              "  @keyframes spin {\n",
              "    0% {\n",
              "      border-color: transparent;\n",
              "      border-bottom-color: var(--fill-color);\n",
              "      border-left-color: var(--fill-color);\n",
              "    }\n",
              "    20% {\n",
              "      border-color: transparent;\n",
              "      border-left-color: var(--fill-color);\n",
              "      border-top-color: var(--fill-color);\n",
              "    }\n",
              "    30% {\n",
              "      border-color: transparent;\n",
              "      border-left-color: var(--fill-color);\n",
              "      border-top-color: var(--fill-color);\n",
              "      border-right-color: var(--fill-color);\n",
              "    }\n",
              "    40% {\n",
              "      border-color: transparent;\n",
              "      border-right-color: var(--fill-color);\n",
              "      border-top-color: var(--fill-color);\n",
              "    }\n",
              "    60% {\n",
              "      border-color: transparent;\n",
              "      border-right-color: var(--fill-color);\n",
              "    }\n",
              "    80% {\n",
              "      border-color: transparent;\n",
              "      border-right-color: var(--fill-color);\n",
              "      border-bottom-color: var(--fill-color);\n",
              "    }\n",
              "    90% {\n",
              "      border-color: transparent;\n",
              "      border-bottom-color: var(--fill-color);\n",
              "    }\n",
              "  }\n",
              "</style>\n",
              "\n",
              "  <script>\n",
              "    async function quickchart(key) {\n",
              "      const quickchartButtonEl =\n",
              "        document.querySelector('#' + key + ' button');\n",
              "      quickchartButtonEl.disabled = true;  // To prevent multiple clicks.\n",
              "      quickchartButtonEl.classList.add('colab-df-spinner');\n",
              "      try {\n",
              "        const charts = await google.colab.kernel.invokeFunction(\n",
              "            'suggestCharts', [key], {});\n",
              "      } catch (error) {\n",
              "        console.error('Error during call to suggestCharts:', error);\n",
              "      }\n",
              "      quickchartButtonEl.classList.remove('colab-df-spinner');\n",
              "      quickchartButtonEl.classList.add('colab-df-quickchart-complete');\n",
              "    }\n",
              "    (() => {\n",
              "      let quickchartButtonEl =\n",
              "        document.querySelector('#df-9d169387-638b-432c-8f0e-64baa62838e0 button');\n",
              "      quickchartButtonEl.style.display =\n",
              "        google.colab.kernel.accessAllowed ? 'block' : 'none';\n",
              "    })();\n",
              "  </script>\n",
              "</div>\n",
              "\n",
              "    </div>\n",
              "  </div>\n"
            ],
            "application/vnd.google.colaboratory.intrinsic+json": {
              "type": "dataframe",
              "variable_name": "df",
              "summary": "{\n  \"name\": \"df\",\n  \"rows\": 1566,\n  \"fields\": [\n    {\n      \"column\": \"Timestamp\",\n      \"properties\": {\n        \"dtype\": \"object\",\n        \"num_unique_values\": 1555,\n        \"samples\": [\n          \"2024-03-26 18:37:00\",\n          \"2024-12-08 13:10:00\",\n          \"2024-10-21 12:01:00\"\n        ],\n        \"semantic_type\": \"\",\n        \"description\": \"\"\n      }\n    },\n    {\n      \"column\": \"Comment\",\n      \"properties\": {\n        \"dtype\": \"string\",\n        \"num_unique_values\": 1566,\n        \"samples\": [\n          \"i had one today i didnt mind it probably prefer the patties over a mcchicken but our store decided to slop on nearly a gallon of mac sauce rendering it a complete mess\",\n          \"man i was gonna get one but they took the frappe off the bonus menu at least for me\",\n          \"lets shrink the size and up the price the customers wont notice it\"\n        ],\n        \"semantic_type\": \"\",\n        \"description\": \"\"\n      }\n    },\n    {\n      \"column\": \"Tokenized_Comment\",\n      \"properties\": {\n        \"dtype\": \"string\",\n        \"num_unique_values\": 1563,\n        \"samples\": [\n          \"today mind probably prefer patty over mcchicken but store decided slop nearly gallon mac sauce rendering complete mess\",\n          \"man gonna get but took frappe off bonus menu least\",\n          \"cant find anywhere near either each theyve rereleased never come market were here during first launch\"\n        ],\n        \"semantic_type\": \"\",\n        \"description\": \"\"\n      }\n    },\n    {\n      \"column\": \"BERTweet_Sentiment\",\n      \"properties\": {\n        \"dtype\": \"category\",\n        \"num_unique_values\": 1,\n        \"samples\": [\n          \"Negative\"\n        ],\n        \"semantic_type\": \"\",\n        \"description\": \"\"\n      }\n    }\n  ]\n}"
            }
          },
          "metadata": {},
          "execution_count": 2
        }
      ]
    },
    {
      "cell_type": "code",
      "source": [
        "df.info()"
      ],
      "metadata": {
        "colab": {
          "base_uri": "https://localhost:8080/"
        },
        "id": "hsULq_7pwMUE",
        "outputId": "22e4f3e3-a9bd-403a-eb96-b4317c4925ad"
      },
      "execution_count": null,
      "outputs": [
        {
          "output_type": "stream",
          "name": "stdout",
          "text": [
            "<class 'pandas.core.frame.DataFrame'>\n",
            "RangeIndex: 1566 entries, 0 to 1565\n",
            "Data columns (total 4 columns):\n",
            " #   Column              Non-Null Count  Dtype \n",
            "---  ------              --------------  ----- \n",
            " 0   Timestamp           1566 non-null   object\n",
            " 1   Comment             1566 non-null   object\n",
            " 2   Tokenized_Comment   1566 non-null   object\n",
            " 3   BERTweet_Sentiment  1566 non-null   object\n",
            "dtypes: object(4)\n",
            "memory usage: 49.1+ KB\n"
          ]
        }
      ]
    },
    {
      "cell_type": "markdown",
      "source": [
        "#Before"
      ],
      "metadata": {
        "id": "gE7HuBVzSrhP"
      }
    },
    {
      "cell_type": "code",
      "source": [
        "# ==============================\n",
        "# Train LDA on Tweet Data\n",
        "# ==============================\n",
        "\n",
        "def safe_literal_eval(val):\n",
        "    \"\"\"Safely converts a string representation of a list into an actual list.\"\"\"\n",
        "    try:\n",
        "        return ast.literal_eval(val) if isinstance(val, str) and val.startswith(\"[\") else val\n",
        "    except (SyntaxError, ValueError):\n",
        "        return val\n",
        "\n",
        "df['tokens'] = df['Tokenized_Comment'].apply(safe_literal_eval)\n",
        "\n",
        "df['tokens'] = df['Tokenized_Comment'].apply(lambda x: x if isinstance(x, list) else str(x).split())\n",
        "\n",
        "# Create Dictionary and Corpus for LDA\n",
        "dictionary = corpora.Dictionary(df['tokens'])\n",
        "corpus = [dictionary.doc2bow(text) for text in df['tokens']]\n",
        "\n",
        "lda_model = gensim.models.LdaModel(\n",
        "    corpus=corpus,\n",
        "    id2word=dictionary,\n",
        "    num_topics=20,\n",
        "    random_state=42,\n",
        "    passes=15,\n",
        "    iterations=500,\n",
        "    alpha='auto',\n",
        "    eta='auto',\n",
        "    minimum_probability=0.01\n",
        ")\n",
        "\n",
        "\n",
        "print(\"\\n=== LDA Topics ===\")\n",
        "for topic_id, words in lda_model.show_topics(num_topics=20, num_words=10, formatted=False):\n",
        "    print(f\"Topic {topic_id}: {[word for word, _ in words]}\")\n",
        "\n",
        "\n",
        "# ==============================\n",
        "# Train BERTopic on Tweet Data\n",
        "# ==============================\n",
        "df['Tokenized_Comment'] = df['Tokenized_Comment'].astype(str)\n",
        "\n",
        "topic_model = BERTopic()\n",
        "topics, probs = topic_model.fit_transform(df['Tokenized_Comment'])\n",
        "\n",
        "bertopic_topics = topic_model.get_topics()\n",
        "num_bertopic_topics = len(bertopic_topics)\n",
        "\n",
        "print(f\"\\n=== BERTopic: {num_bertopic_topics} Topics Found ===\")\n",
        "for topic_id, words in bertopic_topics.items():\n",
        "    print(f\"Topic {topic_id}: {[word for word, _ in words[:10]]}\")"
      ],
      "metadata": {
        "colab": {
          "base_uri": "https://localhost:8080/"
        },
        "id": "dfw1qRfG6JKj",
        "outputId": "ce720a9e-28d7-4070-a80d-66430b930db3"
      },
      "execution_count": null,
      "outputs": [
        {
          "output_type": "stream",
          "name": "stdout",
          "text": [
            "\n",
            "=== LDA Topics ===\n",
            "Topic 0: ['but', 'fry', 'year', 'go', 'sandwich', 'get', 'you', 'chicken', 'no', 'back']\n",
            "Topic 1: ['but', 'get', 'sandwich', 'were', 'tried', 'no', 'up', 'now', 'all', 'off']\n",
            "Topic 2: ['more', 'want', 'but', 'expensive', 'year', 'change', 'ago', 'price', 'than', 'or']\n",
            "Topic 3: ['but', 'price', 'good', 'no', 'sauce', 'way', 'people', 'ha', 'new', 'dollar']\n",
            "Topic 4: ['back', 'all', 'you', 'no', 'but', 'only', 'get', 'ice', 'cream', 'more']\n",
            "Topic 5: ['never', 'fry', 'find', 'cant', 'were', 'than', 'here', 'all', 'get', 'or']\n",
            "Topic 6: ['you', 'sauce', 'all', 'but', 'now', 'deal', 'right', 'taste', 'no', 'pay']\n",
            "Topic 7: ['but', 'deal', 'get', 'no', 'year', 'app', 'more', 'now', 'any', '5']\n",
            "Topic 8: ['price', 'no', 'oh', 'you', 'get', 'or', 'only', 'think', 'people', 'more']\n",
            "Topic 9: ['but', 'all', 'people', 'no', 'staged', 'sauce', 'big', 'point', 'other', 'chicken']\n",
            "Topic 10: ['but', 'get', 'still', 'can', 'price', 'up', 'pickle', 'bad', 'down', 'off']\n",
            "Topic 11: ['now', 'all', 'you', 'chicken', 'get', 'much', 'your', 'big', 'used', 'better']\n",
            "Topic 12: ['will', 'no', 'much', 'but', 'fry', 'all', 'eat', 'store', 'people', 'were']\n",
            "Topic 13: ['no', 'you', 'people', 'actually', 'ha', 'going', 'get', 'store', 'item', 'only']\n",
            "Topic 14: ['up', 'eating', 'but', 'worse', 'fry', 'isnt', 'by', 'going', 'go', 'sandwich']\n",
            "Topic 15: ['or', 'price', 'either', 'off', 'you', 'were', 'employee', 'most', 'few', 'only']\n",
            "Topic 16: ['you', 'people', 'but', 'only', 'same', 'big', 'or', 'price', 'more', 'get']\n",
            "Topic 17: ['you', 'get', 'fry', 'now', 'mac', 'or', 'big', 'all', 'up', 'will']\n",
            "Topic 18: ['very', 'sauce', 'double', 'pounder', 'quarter', 'all', 'or', 'price', 'eat', 'disappointed']\n",
            "Topic 19: ['out', 'no', 'deal', 'all', 'were', 'cup', 'drink', 'price', 'go', 'but']\n",
            "\n",
            "=== BERTopic: 25 Topics Found ===\n",
            "Topic -1: ['but', 'no', 'only', 'you', 'now', 'or', 'get', 'big', 'anymore', 'better']\n",
            "Topic 0: ['no', 'gross', 'you', 'joke', 'lying', 'policy', 'never', 'your', 'grandparent', 'disgusting']\n",
            "Topic 1: ['app', 'deal', 'out', 'day', 'sold', 'get', 'available', 'use', 'only', 'no']\n",
            "Topic 2: ['price', 'profit', 'expensive', 'wage', 'inflation', 'people', 'you', 'quality', 'cost', 'ha']\n",
            "Topic 3: ['menu', 'deal', 'dollar', 'cost', 'item', 'get', 'cheese', 'price', 'mcdouble', 'double']\n",
            "Topic 4: ['plastic', 'cup', 'straw', 'glass', 'taste', 'soda', 'drink', 'refill', 'coke', 'paper']\n",
            "Topic 5: ['chicken', 'mac', 'big', 'patty', 'mcchicken', 'sandwich', 'mcrib', 'mcnuggets', 'breading', 'bread']\n",
            "Topic 6: ['fry', 'large', 'full', 'container', 'good', 'price', 'french', 'off', 'drink', 'fresh']\n",
            "Topic 7: ['sauce', 'sweet', 'mac', 'taste', 'big', 'chili', 'mayo', 'but', 'bbq', 'some']\n",
            "Topic 8: ['staged', 'stunt', 'candidate', 'publicity', 'photo', 'ops', 'campaign', 'event', 'attempt', 'wasnt']\n",
            "Topic 9: ['machine', 'cream', 'ice', 'broken', 'espresso', 'out', 'ha', 'down', 'top', 'mixed']\n",
            "Topic 10: ['salad', 'fat', 'eat', 'eating', 'healthy', 'protein', 'unhealthy', 'parfait', 'but', 'calorie']\n",
            "Topic 11: ['people', 'employee', 'job', 'worker', 'work', 'doing', 'homeless', 'your', 'worked', 'murderface']\n",
            "Topic 12: ['onion', 'qp', 'sick', 'case', 'coli', 'use', 'ate', 'missouri', 'cdc', 'reconstituted']\n",
            "Topic 13: ['eat', 'price', 'people', 'spend', 'ingredient', 'amount', 'supersize', 'quality', 'healthier', 'once']\n",
            "Topic 14: ['japan', 'country', 'australia', 'america', 'everywhere', 'here', 'cant', 'hacked', 'hat', 'disgruntled']\n",
            "Topic 15: ['smaller', 'normal', 'growing', 'shrink', 'size', 'agree', 'quality', 'definitely', 'price', 'amd']\n",
            "Topic 16: ['krispy', 'kreme', 'donut', 'sheetz', 'doughnut', 'cash', 'muffin', 'supplied', 'cashier', 'button']\n",
            "Topic 17: ['franchise', 'owner', 'employee', 'ceo', 'corporate', 'store', 'owned', 'standard', 'management', 'show']\n",
            "Topic 18: ['canada', 'quebec', 'edmonton', 'canadian', 'poutine', 'usa', 'get', 'free', 'never', 'here']\n",
            "Topic 19: ['review', 'post', 'reddit', 'people', 'deleted', 'fake', 'experience', 'suspect', 'vetted', 'ha']\n",
            "Topic 20: ['fish', 'filet', 'dry', 'hard', 'sandwich', 'hold', 'tried', 'changed', 'bun', 'ill']\n",
            "Topic 21: ['patty', 'bun', 'overcooked', 'flavour', 'steamed', 'were', 'pound', 'sitting', 'night', 'tried']\n",
            "Topic 22: ['mcds', 'late', 'mclantern', 'copycat', 'mctruth', 'blindly', 'mcfn', 'respect', 'blatantly', 'opportunity']\n",
            "Topic 23: ['meat', 'beef', 'fryer', 'cooking', 'oil', 'griddle', 'vegetarian', 'tallow', 'might', 'cleaning']\n"
          ]
        }
      ]
    },
    {
      "cell_type": "code",
      "source": [
        "ber_topic_tokens = [[word for word, _ in topic[:10]] for topic in bertopic_topics.values()]\n",
        "\n",
        "ber_topic_tokens = [topic for topic in ber_topic_tokens if topic]\n",
        "\n",
        "ber_topic_token_ids = [[dictionary.token2id.get(word, -1) for word in topic] for topic in ber_topic_tokens]\n",
        "\n",
        "ber_topic_token_ids = [[token_id for token_id in topic if token_id != -1] for topic in ber_topic_token_ids]\n",
        "\n",
        "ber_topic_token_ids = [topic for topic in ber_topic_token_ids if topic]\n",
        "\n",
        "# LDA COherence\n",
        "coherence_model_lda = CoherenceModel(\n",
        "    model=lda_model, texts=df['tokens'], dictionary=dictionary, coherence='c_v'\n",
        ")\n",
        "coherence_lda = coherence_model_lda.get_coherence()\n",
        "\n",
        "# BERTopic Coherence\n",
        "coherence_model_bertopic = CoherenceModel(\n",
        "    topics=ber_topic_token_ids, texts=df['tokens'], dictionary=dictionary, coherence='c_v'\n",
        ")\n",
        "coherence_bertopic = coherence_model_bertopic.get_coherence()\n",
        "\n",
        "print(f\"LDA Coherence Score: {coherence_lda:.3f}\")\n",
        "print(f\"BERTopic Coherence Score: {coherence_bertopic:.3f}\")"
      ],
      "metadata": {
        "colab": {
          "base_uri": "https://localhost:8080/"
        },
        "id": "iQCHXg3f-8s2",
        "outputId": "6f15b6a5-04dc-4079-bccd-6c005f10c2ee"
      },
      "execution_count": null,
      "outputs": [
        {
          "output_type": "stream",
          "name": "stdout",
          "text": [
            "LDA Coherence Score: 0.411\n",
            "BERTopic Coherence Score: 0.427\n"
          ]
        }
      ]
    },
    {
      "cell_type": "code",
      "source": [
        "# LDA diversity\n",
        "def calculate_lda_topic_diversity(lda_model, top_n_words=10):\n",
        "    topics = lda_model.show_topics(num_topics=lda_model.num_topics, num_words=top_n_words, formatted=False)\n",
        "    unique_words = set()\n",
        "    for topic in topics:\n",
        "        unique_words.update([word for word, _ in topic[1]])\n",
        "    return len(unique_words) / (top_n_words * lda_model.num_topics)\n",
        "\n",
        "lda_topic_diversity = calculate_lda_topic_diversity(lda_model)\n",
        "\n",
        "# BERTopic diversity\n",
        "def calculate_topic_diversity(model, top_n_words=10):\n",
        "    words = model.get_topics()\n",
        "    unique_words = set()\n",
        "    for topic in words.values():\n",
        "        unique_words.update([word for word, _ in topic[:top_n_words]])\n",
        "    return len(unique_words) / (top_n_words * len(words))\n",
        "\n",
        "bertopic_topic_diversity = calculate_topic_diversity(topic_model)\n",
        "\n",
        "print(f\"LDA Topic Diversity Score: {lda_topic_diversity:.3f}\")\n",
        "print(f\"BERTopic Topic Diversity Score: {bertopic_topic_diversity:.3f}\")"
      ],
      "metadata": {
        "colab": {
          "base_uri": "https://localhost:8080/"
        },
        "id": "eWW3iccv_ZBt",
        "outputId": "4f238a76-bdf2-474b-fc0a-a46ff8f02010"
      },
      "execution_count": null,
      "outputs": [
        {
          "output_type": "stream",
          "name": "stdout",
          "text": [
            "LDA Topic Diversity Score: 0.420\n",
            "BERTopic Topic Diversity Score: 0.844\n"
          ]
        }
      ]
    },
    {
      "cell_type": "markdown",
      "source": [
        "#Find Optimal Topics For LDA"
      ],
      "metadata": {
        "id": "77Ah7Voz_-an"
      }
    },
    {
      "cell_type": "code",
      "source": [
        "def compute_coherence_values(dictionary, corpus, texts, topic_range):\n",
        "    coherence_scores = []\n",
        "    for num_topics in topic_range:\n",
        "        lda_model = gensim.models.LdaModel(\n",
        "            corpus=corpus,\n",
        "            id2word=dictionary,\n",
        "            num_topics=num_topics,\n",
        "            random_state=42,\n",
        "            passes=10,\n",
        "            iterations=200\n",
        "        )\n",
        "        coherence_model = CoherenceModel(\n",
        "            model=lda_model, texts=texts, dictionary=dictionary, coherence='c_v'\n",
        "        )\n",
        "        coherence_score = coherence_model.get_coherence()\n",
        "        coherence_scores.append(coherence_score)\n",
        "        print(f\"Num Topics: {num_topics}, Coherence Score: {coherence_score:.4f}\")\n",
        "\n",
        "    return coherence_scores\n",
        "\n",
        "\n",
        "topic_range = range(2, 20)\n",
        "\n",
        "coherence_scores = compute_coherence_values(dictionary, corpus, df['tokens'], topic_range)\n",
        "\n",
        "plt.figure(figsize=(8, 5))\n",
        "plt.plot(topic_range, coherence_scores, marker='o', linestyle='-')\n",
        "plt.xlabel(\"Number of Topics\")\n",
        "plt.ylabel(\"Coherence Score\")\n",
        "plt.title(\"Coherence Score vs. Number of Topics\")\n",
        "plt.grid()\n",
        "plt.show()\n",
        "\n",
        "optimal_topic_num = topic_range[coherence_scores.index(max(coherence_scores))]\n",
        "print(f\"Optimal Number of Topics: {optimal_topic_num}\")\n"
      ],
      "metadata": {
        "colab": {
          "base_uri": "https://localhost:8080/",
          "height": 817
        },
        "id": "kUdTvYCU_kaC",
        "outputId": "3b2f52a9-13ff-4c98-8d29-96a78d62f5e2"
      },
      "execution_count": null,
      "outputs": [
        {
          "output_type": "stream",
          "name": "stdout",
          "text": [
            "Num Topics: 2, Coherence Score: 0.5036\n",
            "Num Topics: 3, Coherence Score: 0.4778\n",
            "Num Topics: 4, Coherence Score: 0.4928\n",
            "Num Topics: 5, Coherence Score: 0.4768\n",
            "Num Topics: 6, Coherence Score: 0.4753\n",
            "Num Topics: 7, Coherence Score: 0.4596\n",
            "Num Topics: 8, Coherence Score: 0.4725\n",
            "Num Topics: 9, Coherence Score: 0.4537\n",
            "Num Topics: 10, Coherence Score: 0.4501\n",
            "Num Topics: 11, Coherence Score: 0.4333\n",
            "Num Topics: 12, Coherence Score: 0.4380\n",
            "Num Topics: 13, Coherence Score: 0.4472\n",
            "Num Topics: 14, Coherence Score: 0.4479\n",
            "Num Topics: 15, Coherence Score: 0.4365\n",
            "Num Topics: 16, Coherence Score: 0.4163\n",
            "Num Topics: 17, Coherence Score: 0.4002\n",
            "Num Topics: 18, Coherence Score: 0.4157\n",
            "Num Topics: 19, Coherence Score: 0.4065\n"
          ]
        },
        {
          "output_type": "display_data",
          "data": {
            "text/plain": [
              "<Figure size 800x500 with 1 Axes>"
            ],
            "image/png": "[encoded data removed]"
          },
          "metadata": {}
        },
        {
          "output_type": "stream",
          "name": "stdout",
          "text": [
            "Optimal Number of Topics: 2\n"
          ]
        }
      ]
    },
    {
      "cell_type": "markdown",
      "source": [
        "#Find Optimal Topics Of BERTopic"
      ],
      "metadata": {
        "id": "hcIVrJlYArSd"
      }
    },
    {
      "cell_type": "code",
      "source": [
        "def compute_coherence_values_bertopic(texts, topic_range):\n",
        "    coherence_scores = []\n",
        "    vectorizer_model = None\n",
        "    for num_topics in topic_range:\n",
        "        topic_model = BERTopic(top_n_words=10, nr_topics=num_topics)\n",
        "        topics, _ = topic_model.fit_transform(texts)\n",
        "\n",
        "        topic_words = [list(zip(*topic_model.get_topic(topic)[1]))[0] for topic in range(len(topic_model.get_topics())) if topic != -1]\n",
        "\n",
        "        dictionary = Dictionary(texts)\n",
        "        corpus = [dictionary.doc2bow(text) for text in texts]\n",
        "\n",
        "        coherence_model = CoherenceModel(\n",
        "            topics=topic_words,\n",
        "            texts=texts,\n",
        "            corpus=corpus,\n",
        "            dictionary=dictionary,\n",
        "            coherence='c_v'\n",
        "        )\n",
        "\n",
        "        coherence_score = coherence_model.get_coherence()\n",
        "        coherence_scores.append(coherence_score)\n",
        "        print(f\"Num Topics: {num_topics}, Coherence Score: {coherence_score:.4f}\")\n",
        "\n",
        "    return coherence_scores\n",
        "\n",
        "topic_range = range(2, 20)\n",
        "coherence_scores = compute_coherence_values(dictionary, corpus, df['tokens'], topic_range)\n",
        "\n",
        "plt.figure(figsize=(8, 5))\n",
        "plt.plot(topic_range, coherence_scores, marker='o', linestyle='-')\n",
        "plt.xlabel(\"Number of Topics\")\n",
        "plt.ylabel(\"Coherence Score\")\n",
        "plt.title(\"Coherence Score vs. Number of Topics\")\n",
        "plt.grid()\n",
        "plt.show()\n",
        "\n",
        "# Dispay\n",
        "optimal_topic_num = topic_range[coherence_scores.index(max(coherence_scores))]\n",
        "print(f\"\\nOptimal Number of BERTTopics: {optimal_topic_num}\")"
      ],
      "metadata": {
        "colab": {
          "base_uri": "https://localhost:8080/",
          "height": 834
        },
        "id": "gBIAH9-zTXHQ",
        "outputId": "9cf33c51-f500-4677-9508-7e32a0d2ea8e"
      },
      "execution_count": null,
      "outputs": [
        {
          "output_type": "stream",
          "name": "stdout",
          "text": [
            "Num Topics: 2, Coherence Score: 0.5036\n",
            "Num Topics: 3, Coherence Score: 0.4778\n",
            "Num Topics: 4, Coherence Score: 0.4928\n",
            "Num Topics: 5, Coherence Score: 0.4768\n",
            "Num Topics: 6, Coherence Score: 0.4753\n",
            "Num Topics: 7, Coherence Score: 0.4596\n",
            "Num Topics: 8, Coherence Score: 0.4725\n",
            "Num Topics: 9, Coherence Score: 0.4537\n",
            "Num Topics: 10, Coherence Score: 0.4501\n",
            "Num Topics: 11, Coherence Score: 0.4333\n",
            "Num Topics: 12, Coherence Score: 0.4380\n",
            "Num Topics: 13, Coherence Score: 0.4472\n",
            "Num Topics: 14, Coherence Score: 0.4479\n",
            "Num Topics: 15, Coherence Score: 0.4365\n",
            "Num Topics: 16, Coherence Score: 0.4163\n",
            "Num Topics: 17, Coherence Score: 0.4002\n",
            "Num Topics: 18, Coherence Score: 0.4157\n",
            "Num Topics: 19, Coherence Score: 0.4065\n"
          ]
        },
        {
          "output_type": "display_data",
          "data": {
            "text/plain": [
              "<Figure size 800x500 with 1 Axes>"
            ],
            "image/png": "[encoded data removed]"
          },
          "metadata": {}
        },
        {
          "output_type": "stream",
          "name": "stdout",
          "text": [
            "\n",
            "Optimal Number of BERTTopics: 2\n"
          ]
        }
      ]
    },
    {
      "cell_type": "markdown",
      "source": [
        "#After"
      ],
      "metadata": {
        "id": "RHZeIFabVro1"
      }
    },
    {
      "cell_type": "code",
      "source": [
        "# ==============================\n",
        "# Train LDA on Tweet Data\n",
        "# ==============================\n",
        "\n",
        "def safe_literal_eval(val):\n",
        "    \"\"\"Safely converts a string representation of a list into an actual list.\"\"\"\n",
        "    try:\n",
        "        return ast.literal_eval(val) if isinstance(val, str) and val.startswith(\"[\") else val\n",
        "    except (SyntaxError, ValueError):\n",
        "        return val\n",
        "\n",
        "df['tokens'] = df['Tokenized_Comment'].apply(safe_literal_eval)\n",
        "\n",
        "df['tokens'] = df['Tokenized_Comment'].apply(lambda x: x if isinstance(x, list) else str(x).split())\n",
        "\n",
        "dictionary = corpora.Dictionary(df['tokens'])\n",
        "corpus = [dictionary.doc2bow(text) for text in df['tokens']]\n",
        "\n",
        "lda_model = gensim.models.LdaModel(\n",
        "    corpus=corpus,\n",
        "    id2word=dictionary,\n",
        "    num_topics=2,\n",
        "    random_state=42,\n",
        "    passes=15,\n",
        "    iterations=500,\n",
        "    alpha='auto',\n",
        "    eta='auto',\n",
        "    minimum_probability=0.01\n",
        ")\n",
        "\n",
        "print(\"\\n=== LDA: 2 Optimal Topics Found ===\")\n",
        "for topic_id, words in lda_model.show_topics(num_topics=20, num_words=10, formatted=False):\n",
        "    print(f\"Topic {topic_id}: {[word for word, _ in words]}\")\n",
        "\n",
        "\n",
        "# ==============================\n",
        "# Train BERTopic on Tweet Data\n",
        "# ==============================\n",
        "df['Tokenized_Comment'] = df['Tokenized_Comment'].astype(str)\n",
        "\n",
        "topic_model = BERTopic()\n",
        "topics, probs = topic_model.fit_transform(df['Tokenized_Comment'])\n",
        "\n",
        "\n",
        "bertopic_topics = topic_model.get_topics()\n",
        "num_bertopic_topics = len(bertopic_topics)\n",
        "\n",
        "# Display BERTopic results\n",
        "print(f\"\\n=== BERTopic: {2} Optimal Topics Found ===\")\n",
        "for topic_id, words in list(bertopic_topics.items())[:3]:  # Show only first 3\n",
        "    print(f\"Topic {topic_id}: {[word for word, _ in words[:10]]}\")"
      ],
      "metadata": {
        "colab": {
          "base_uri": "https://localhost:8080/"
        },
        "id": "MuhMdANJVtQd",
        "outputId": "107f4acb-7ed7-42e3-85b5-debd56974957"
      },
      "execution_count": null,
      "outputs": [
        {
          "output_type": "stream",
          "name": "stdout",
          "text": [
            "\n",
            "=== LDA: 2 Optimal Topics Found ===\n",
            "Topic 0: ['you', 'no', 'get', 'but', 'price', 'fry', 'or', 'all', 'only', 'deal']\n",
            "Topic 1: ['but', 'all', 'people', 'or', 'get', 'you', 'were', 'up', 'sauce', 'now']\n",
            "\n",
            "=== BERTopic: 2 Optimal Topics Found ===\n",
            "Topic -1: ['but', 'no', 'big', 'or', 'you', 'only', 'mcds', 'people', 'get', 'mac']\n",
            "Topic 0: ['no', 'you', 'gross', 'disgusting', 'never', 'joke', 'lying', 'minute', 'always', 'sign']\n",
            "Topic 1: ['app', 'deal', 'out', 'day', 'get', 'no', 'sold', 'only', 'use', 'available']\n"
          ]
        }
      ]
    }
  ]
}